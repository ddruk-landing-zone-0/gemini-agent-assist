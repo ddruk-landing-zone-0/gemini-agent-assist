{
 "cells": [
  {
   "cell_type": "markdown",
   "metadata": {},
   "source": [
    "## Sample Data"
   ]
  },
  {
   "cell_type": "code",
   "execution_count": 1,
   "metadata": {},
   "outputs": [],
   "source": [
    "import json"
   ]
  },
  {
   "cell_type": "code",
   "execution_count": 2,
   "metadata": {},
   "outputs": [],
   "source": [
    "def read_json(file):\n",
    "    with open(file) as f:\n",
    "        data = json.load(f)\n",
    "    return data"
   ]
  },
  {
   "cell_type": "code",
   "execution_count": 3,
   "metadata": {},
   "outputs": [],
   "source": [
    "rule_based_title_comment_data = read_json(\"../sample_data/rule_based_title_comment_data.json\")\n",
    "sample_summarized_pnl_commentaries = read_json(\"../sample_data/sample_summarized_pnl_commentaries.json\")\n",
    "sample_executive_summary = read_json(\"../sample_data/sample_executive_summary.json\")"
   ]
  },
  {
   "cell_type": "code",
   "execution_count": null,
   "metadata": {},
   "outputs": [],
   "source": [
    "# # Save the sample_summarized_pnl_commentaries to a file\n",
    "# with open(\"../sample_data/sample_summarized_pnl_commentaries.json\", \"w\") as f:\n",
    "#     json.dump(sample_summarized_pnl_commentaries, f, indent=4)"
   ]
  },
  {
   "cell_type": "code",
   "execution_count": 4,
   "metadata": {},
   "outputs": [],
   "source": [
    "# Remove COMMENT from rule_based_title_comment_data\n",
    "for key in rule_based_title_comment_data:\n",
    "    del key['COMMENT']"
   ]
  },
  {
   "cell_type": "code",
   "execution_count": 5,
   "metadata": {},
   "outputs": [],
   "source": [
    "title_comment_template = \"For Buisness <BUIS>, on  <DATE>, driven by <NET>$  <FACTOR> <PROF_LOSS> to PL on <CUR> Currency on Portfolio <PF> and Desk <DSK>\""
   ]
  },
  {
   "cell_type": "markdown",
   "metadata": {},
   "source": [
    "## Pompting And Gemeini "
   ]
  },
  {
   "cell_type": "code",
   "execution_count": 6,
   "metadata": {},
   "outputs": [
    {
     "name": "stderr",
     "output_type": "stream",
     "text": [
      "/Users/debasmitroy/Desktop/programming/gemini-agent-assist/.venv/lib/python3.9/site-packages/urllib3/__init__.py:35: NotOpenSSLWarning: urllib3 v2 only supports OpenSSL 1.1.1+, currently the 'ssl' module is compiled with 'LibreSSL 2.8.3'. See: https://github.com/urllib3/urllib3/issues/3020\n",
      "  warnings.warn(\n"
     ]
    }
   ],
   "source": [
    "import os\n",
    "from pydantic import BaseModel, Field\n",
    "from typing import List, Dict, Any\n",
    "from utils.gemini_service import GeminiModel, GeminiJsonEngine, GeminiSimpleChatEngine\n",
    "import time"
   ]
  },
  {
   "cell_type": "code",
   "execution_count": 7,
   "metadata": {},
   "outputs": [],
   "source": [
    "os.environ[\"GOOGLE_APPLICATION_CREDENTIALS\"] = \"/Users/debasmitroy/Desktop/programming/gemini-agent-assist/key.json\"\n",
    "os.environ[\"GOOGLE_CLOUD_PROJECT\"] = \"hackathon0-project\"\n",
    "os.environ[\"GOOGLE_CLOUD_LOCATION\"] = \"us-central1\""
   ]
  },
  {
   "cell_type": "markdown",
   "metadata": {},
   "source": [
    "### Refining the sample summaries"
   ]
  },
  {
   "cell_type": "code",
   "execution_count": 8,
   "metadata": {},
   "outputs": [
    {
     "name": "stdout",
     "output_type": "stream",
     "text": [
      "Initialized GeminiModel with model gemini-1.5-flash-002 , project hackathon0-project, location us-central1\n"
     ]
    }
   ],
   "source": [
    "gemini_simple_chat_engine = GeminiSimpleChatEngine(model_name=\"gemini-1.5-flash-002\", \n",
    "                                                   temperature=0.5, \n",
    "                                                   max_output_tokens=512,\n",
    "                                                   systemInstructions=\"You are an expert financial bot. You will be given a financial report and you need to refine the report. Keep everything in a single large paragraph. Dont use any markdown or bullet points. \")"
   ]
  },
  {
   "cell_type": "code",
   "execution_count": null,
   "metadata": {},
   "outputs": [],
   "source": [
    "refined_sample_summarized_pnl_commentaries = []\n",
    "for sample_comment in sample_summarized_pnl_commentaries:\n",
    "    _refinement_prompt = [\n",
    "        f\"Given financial report: {sample_comment}\",\n",
    "        f\"Please refine the financial report in a more readable and meangingful way without losing any important information and entitites and technical/financial terms. Dont unnecessarily change the meaning of the report and dont increase the length of the report. \"\n",
    "    ]\n",
    "    refined_sample_comment = gemini_simple_chat_engine(_refinement_prompt)\n",
    "    refined_sample_summarized_pnl_commentaries.append(refined_sample_comment)\n",
    "    time.sleep(5)"
   ]
  },
  {
   "cell_type": "code",
   "execution_count": 10,
   "metadata": {},
   "outputs": [
    {
     "data": {
      "text/plain": [
       "(2,\n",
       " \"Derivatives trading showed a €2 million profit, a significant 92% decrease year-over-year (PY), primarily due to increased losses in the book and held (B&H) portfolio.  Individual strategy performance included G10 currencies (€3 million profit), Metals (€2 million profit), Exotics (€1 million loss), and Management (€2 million loss). New deals generated €16 million, driven by strong performance in G10 currencies (€7 million), Exotics (€4 million), Precious Metals (€3 million), Latin America (€2 million), and Asia (€1 million), although this represents a 30% decrease versus PY due to reduced trading activity during the holiday season.  Key market influences included lower-than-expected Consumer Price Index (CPI) data,  anticipation of future interest rate cuts, and the Bank of Japan's (BOJ) continued dovish monetary policy. The request for quote (RFQ) conversion rate improved to 10.7% from 8.7% PY, despite a 26% decline in client requests (26,000 vs 35,000 PY) and a 7% reduction in hits (2,000 vs 3,000 PY). Interest curve generation (ICG) realized a €9 million profit and credit business (CB) €3 million, marking a 32% overall decrease versus PY due to lower client demand.  The B&H portfolio incurred a €12 million loss, mainly from FX Gamma (€7 million loss) stemming from long USD positions against a 2% decline in the US Dollar Index (DXY), and short positions in Japanese Yen (JPY), Gold (XAU), and Mexican Peso (MXN). Vega contributed a €6 million loss, resulting from a short XAUUSD position and marked-up short-end volatilities, offset by long USDINR, EURUSD, and EURJPY positions with marked-down short-end volatilities.  Interest rate volatility (IPV) bid-offer contributed a €1 million loss. Theta generated a €1 million profit, a significant improvement from an €11 million loss in PY, driven by option trades in G10 currencies within a low-volatility environment. Portfolio reserves incurred a €3 million loss due to Vega bid-offer, LTFX JV, and Vega Blend. Contingent risk remained flat, with new trades in USDJPY and EURUSD generating reserved\")"
      ]
     },
     "execution_count": 10,
     "metadata": {},
     "output_type": "execute_result"
    }
   ],
   "source": [
    "len(refined_sample_summarized_pnl_commentaries), refined_sample_summarized_pnl_commentaries[0]"
   ]
  },
  {
   "cell_type": "markdown",
   "metadata": {},
   "source": [
    "### Query Genreation"
   ]
  },
  {
   "cell_type": "code",
   "execution_count": 11,
   "metadata": {},
   "outputs": [],
   "source": [
    "class Query(BaseModel):\n",
    "    \"\"\"\n",
    "    Represents a financial query involving placeholders for key financial attributes: \n",
    "    <BUIS>, <DATE>, <NET>, <FACTOR>, <PROF_LOSS>, <CUR>, <PF>, and <DSK>.  \n",
    "\n",
    "    Example Queries:  \n",
    "    - What are the <FACTOR>s that contributed the highest <NET> profit/loss?  \n",
    "    - Which <CUR> currencies are driving the top-performing portfolios <PF>?  \n",
    "    \"\"\"\n",
    "    query: str = Field(..., title=\"Financial query using placeholders <BUIS>, <DATE>, <NET>, <FACTOR>, <PROF_LOSS>, <CUR>, <PF>, and <DSK>.\")\n",
    "\n",
    "class FinancialQueries(BaseModel):\n",
    "    \"\"\"\n",
    "    A collection of structured queries designed to generate financial summaries.  \n",
    "    Each query should use placeholders (<FIELD>) instead of actual values.  \n",
    "    \"\"\"\n",
    "    queries: List[Query] = Field(..., title=\"List of financial queries using placeholders <FIELD> instead of actual values.\")"
   ]
  },
  {
   "cell_type": "code",
   "execution_count": 12,
   "metadata": {},
   "outputs": [],
   "source": [
    "user_prompt_list = [\n",
    "    \"You are a financial assistant. Your task is to generate structured queries from given templates to create financial summaries.\",\n",
    "    \n",
    "    f\"Here is an example pattern for financial summaries: {refined_sample_summarized_pnl_commentaries[0]}.\",\n",
    "    \n",
    "    f\"You are provided with a list of rule-based templates in the format List[{title_comment_template}]. Extract meaningful queries from these templates.\",\n",
    "    \n",
    "    \"\"\"Generate at least 15 diverse queries that can be used to generate sample financial summaries.\n",
    "    \n",
    "    - The queries should focus on aggregations such as min, max, mean, and sum, or retrieve the top 5 / bottom 5 entities.  \n",
    "    - Avoid queries that fetch all rows or list all entities without aggregation.  \n",
    "    - Do not create separate queries for different aggregations on the same entity; instead, combine them into a single query.  \n",
    "    - Dont ask for a particular value; instead, ask for a top k or bottom k value. Say, top 5 Business Units or bottom 5 Desks.\n",
    "    - The queries should be sufficient to address the financial summary patterns mentioned above.  \n",
    "    - Replace all field values with placeholders using the format <FIELD>. Do not include actual values.  \n",
    "    - Do not summarize the data; just generate structured queries.\"\"\",\n",
    "    \n",
    "    \"You must use the tool `FinancialQueries`. Your response must strictly follow the argument structure of `FinancialQueries`.\"\n",
    "]\n"
   ]
  },
  {
   "cell_type": "code",
   "execution_count": 13,
   "metadata": {},
   "outputs": [
    {
     "name": "stdout",
     "output_type": "stream",
     "text": [
      "Initialized GeminiModel with model gemini-2.0-flash-001 , project hackathon0-project, location us-central1\n"
     ]
    }
   ],
   "source": [
    "fin_qry_engine = GeminiJsonEngine(\n",
    "    model_name=\"gemini-2.0-flash-001\",\n",
    "    basemodel=FinancialQueries,\n",
    "    temperature=0.8,\n",
    "    max_output_tokens=500,\n",
    "    systemInstructions=None\n",
    ")"
   ]
  },
  {
   "cell_type": "code",
   "execution_count": 14,
   "metadata": {},
   "outputs": [],
   "source": [
    "fin_quries = fin_qry_engine(\n",
    "    user_query=user_prompt_list\n",
    ")"
   ]
  },
  {
   "cell_type": "code",
   "execution_count": 15,
   "metadata": {},
   "outputs": [
    {
     "data": {
      "text/plain": [
       "[{'query': 'What are the top 5 <FACTOR>s that contributed the highest <NET> profit/loss?'},\n",
       " {'query': 'Which <CUR> currencies are driving the top-performing portfolios <PF>?'},\n",
       " {'query': 'What are the bottom 5 performing <BUIS> business units based on <NET> profit/loss?'},\n",
       " {'query': 'List the top 5 <DSK> desks with the largest <PROF_LOSS> losses.'},\n",
       " {'query': 'What is the average <NET> profit/loss for each <BUIS> business unit on <DATE>?'},\n",
       " {'query': 'Which <PF> portfolios had the highest <NET> profit in <CUR>?'},\n",
       " {'query': 'What are the top 5 <FACTOR>s impacting <NET> profit/loss across all <BUIS> business units?'},\n",
       " {'query': 'What is the overall <NET> profit/loss trend for <BUIS> business unit <BUIS> over the past <DATE>?'},\n",
       " {'query': 'Which <CUR> currencies have the lowest average <NET> profit/loss across all <PF> portfolios?'},\n",
       " {'query': 'What is the distribution of <NET> profit/loss across different <DSK> desks?'},\n",
       " {'query': 'What are the top 5 <BUIS> business units with the highest <NET> profit/loss in <CUR> currency?'},\n",
       " {'query': 'Which <FACTOR>s have the most significant impact on <NET> profit/loss for portfolio <PF>?'},\n",
       " {'query': 'What is the average <NET> profit/loss per <DSK> desk, broken down by <CUR> currency?'},\n",
       " {'query': 'Identify the top 5 <PF> portfolios with the greatest volatility in <NET> profit/loss.'},\n",
       " {'query': 'What is the total <NET> profit/loss for each <BUIS> business unit, considering both <PROF_LOSS> profits and losses?'}]"
      ]
     },
     "execution_count": 15,
     "metadata": {},
     "output_type": "execute_result"
    }
   ],
   "source": [
    "fin_quries[0]['queries']"
   ]
  },
  {
   "cell_type": "markdown",
   "metadata": {},
   "source": [
    "### Code Generation Based On Query"
   ]
  },
  {
   "cell_type": "code",
   "execution_count": 45,
   "metadata": {},
   "outputs": [],
   "source": [
    "from sqlalchemy import create_engine, Column, String, Table, MetaData\n",
    "from sqlalchemy.orm import sessionmaker\n",
    "from sqlalchemy.sql import text\n",
    "import pandas as pd\n",
    "import re\n",
    "\n",
    "class InMemoryDB:\n",
    "    def __init__(self):\n",
    "        self.engine = create_engine('sqlite:///:memory:', echo=False)\n",
    "        self.metadata = MetaData()\n",
    "        self.Session = sessionmaker(bind=self.engine)\n",
    "        self.session = self.Session()\n",
    "\n",
    "    def create_table(self, table_name, columns):\n",
    "        \"\"\"Creates a table dynamically based on given column names.\"\"\"\n",
    "        table = Table(\n",
    "            table_name, self.metadata,\n",
    "            *[Column(col, String) for col in columns],  # Corrected column definition\n",
    "        )\n",
    "        table.create(self.engine)\n",
    "\n",
    "    def insert_data(self, table_name, data):\n",
    "        \"\"\"Inserts a row into the table using parameterized queries.\"\"\"\n",
    "        placeholders = \", \".join([f\":{key}\" for key in data.keys()])\n",
    "        query = text(f\"INSERT INTO {table_name} ({', '.join(data.keys())}) VALUES ({placeholders})\")\n",
    "        self.session.execute(query, data)\n",
    "        self.session.commit()\n",
    "\n",
    "    def query_data(self, query):\n",
    "        \"\"\"Executes a SELECT query and returns results with column names.\"\"\"\n",
    "        result = self.session.execute(text(query))\n",
    "        columns = result.keys()  # Get column names\n",
    "        data = result.fetchall()  # Get data rows\n",
    "        return list(columns), data  # Return both columns and data\n",
    "\n",
    "    def __del__(self):\n",
    "        self.session.close()"
   ]
  },
  {
   "cell_type": "code",
   "execution_count": 46,
   "metadata": {},
   "outputs": [
    {
     "data": {
      "text/plain": [
       "(['BUIS', 'DATE', 'NET', 'FACTOR', 'PROF_LOSS', 'CUR', 'PF', 'DSK'],\n",
       " [('CEEMAEA', '2023-06-01', '1359240', 'BondBasis', 'LOSS', 'INR', 'American London CEEMAEA Portfolio', 'LATAM/NYC DSK'),\n",
       "  ('CEEMAEA', '2023-06-01', '1697695', 'FXDelta', 'PROFFIT', 'GBP', 'European CEEMAEA Portfolio', 'US/LDN DSK')])"
      ]
     },
     "execution_count": 46,
     "metadata": {},
     "output_type": "execute_result"
    }
   ],
   "source": [
    "# Initialize DB and create table\n",
    "inmemory_db = InMemoryDB()\n",
    "inmemory_db.create_table(\"title_data\", rule_based_title_comment_data[0].keys())\n",
    "\n",
    "# Insert data\n",
    "for data in rule_based_title_comment_data:\n",
    "    inmemory_db.insert_data(\"title_data\", data)\n",
    "\n",
    "# Query and print results\n",
    "cols, results = inmemory_db.query_data(\"SELECT * FROM title_data\")\n",
    "\n",
    "cols, results[:2]"
   ]
  },
  {
   "cell_type": "code",
   "execution_count": 18,
   "metadata": {},
   "outputs": [
    {
     "name": "stdout",
     "output_type": "stream",
     "text": [
      "FacadeDict({'title_data': Table('title_data', MetaData(), Column('BUIS', String(), table=<title_data>), Column('DATE', String(), table=<title_data>), Column('NET', String(), table=<title_data>), Column('FACTOR', String(), table=<title_data>), Column('PROF_LOSS', String(), table=<title_data>), Column('CUR', String(), table=<title_data>), Column('PF', String(), table=<title_data>), Column('DSK', String(), table=<title_data>), schema=None)})\n"
     ]
    }
   ],
   "source": [
    "# Print the schema\n",
    "print(inmemory_db.metadata.tables)"
   ]
  },
  {
   "cell_type": "code",
   "execution_count": 19,
   "metadata": {},
   "outputs": [],
   "source": [
    "class SQLScript(BaseModel):\n",
    "    \"\"\"\n",
    "    SQL Script to query data from the given table. You have to use this tool to generate the SQL script.\n",
    "    \"\"\"\n",
    "    sql_script: str = Field(..., title=\"SQL Script to query data from the given table.\")\n",
    "    columns: List[str] = Field(..., title=\"Which columns are being projected in the SQL script.\")\n",
    "    description: str = Field(..., title=\"What does the SQL script do in Finance Analyst's perspective\")"
   ]
  },
  {
   "cell_type": "code",
   "execution_count": 21,
   "metadata": {},
   "outputs": [
    {
     "name": "stdout",
     "output_type": "stream",
     "text": [
      "Initialized GeminiModel with model gemini-2.0-flash-001 , project hackathon0-project, location us-central1\n"
     ]
    }
   ],
   "source": [
    "sql_query_engine = GeminiJsonEngine(\n",
    "    model_name=\"gemini-2.0-flash-001\",\n",
    "    basemodel=SQLScript,\n",
    "    temperature=0.8,\n",
    "    max_output_tokens=500,\n",
    "    systemInstructions=None\n",
    ")\n",
    "\n"
   ]
  },
  {
   "cell_type": "code",
   "execution_count": 50,
   "metadata": {},
   "outputs": [
    {
     "data": {
      "text/html": [
       "<div>\n",
       "<style scoped>\n",
       "    .dataframe tbody tr th:only-of-type {\n",
       "        vertical-align: middle;\n",
       "    }\n",
       "\n",
       "    .dataframe tbody tr th {\n",
       "        vertical-align: top;\n",
       "    }\n",
       "\n",
       "    .dataframe thead th {\n",
       "        text-align: right;\n",
       "    }\n",
       "</style>\n",
       "<table border=\"1\" class=\"dataframe\">\n",
       "  <thead>\n",
       "    <tr style=\"text-align: right;\">\n",
       "      <th></th>\n",
       "      <th>BUIS</th>\n",
       "      <th>DATE</th>\n",
       "      <th>NET</th>\n",
       "      <th>FACTOR</th>\n",
       "      <th>PROF_LOSS</th>\n",
       "      <th>CUR</th>\n",
       "      <th>PF</th>\n",
       "      <th>DSK</th>\n",
       "    </tr>\n",
       "  </thead>\n",
       "  <tbody>\n",
       "    <tr>\n",
       "      <th>0</th>\n",
       "      <td>CEEMAEA</td>\n",
       "      <td>2023-06-01</td>\n",
       "      <td>1359240</td>\n",
       "      <td>BondBasis</td>\n",
       "      <td>LOSS</td>\n",
       "      <td>INR</td>\n",
       "      <td>American London CEEMAEA Portfolio</td>\n",
       "      <td>LATAM/NYC DSK</td>\n",
       "    </tr>\n",
       "    <tr>\n",
       "      <th>1</th>\n",
       "      <td>CEEMAEA</td>\n",
       "      <td>2023-06-01</td>\n",
       "      <td>1697695</td>\n",
       "      <td>FXDelta</td>\n",
       "      <td>PROFFIT</td>\n",
       "      <td>GBP</td>\n",
       "      <td>European CEEMAEA Portfolio</td>\n",
       "      <td>US/LDN DSK</td>\n",
       "    </tr>\n",
       "    <tr>\n",
       "      <th>2</th>\n",
       "      <td>LATAM</td>\n",
       "      <td>2023-06-01</td>\n",
       "      <td>125891</td>\n",
       "      <td>BondBasis</td>\n",
       "      <td>LOSS</td>\n",
       "      <td>EUR</td>\n",
       "      <td>LATAM Emerging Portfolio</td>\n",
       "      <td>LATAM/NYC DSK</td>\n",
       "    </tr>\n",
       "    <tr>\n",
       "      <th>3</th>\n",
       "      <td>CEEMAEA</td>\n",
       "      <td>2023-06-02</td>\n",
       "      <td>80205</td>\n",
       "      <td>BondBasis</td>\n",
       "      <td>LOSS</td>\n",
       "      <td>EUR</td>\n",
       "      <td>American London CEEMAEA Portfolio</td>\n",
       "      <td>US/LDN DSK</td>\n",
       "    </tr>\n",
       "    <tr>\n",
       "      <th>4</th>\n",
       "      <td>LATAM</td>\n",
       "      <td>2023-06-02</td>\n",
       "      <td>1287150</td>\n",
       "      <td>IRDelta</td>\n",
       "      <td>LOSS</td>\n",
       "      <td>GBP</td>\n",
       "      <td>American London CEEMAEA Portfolio</td>\n",
       "      <td>US/LDN DSK</td>\n",
       "    </tr>\n",
       "  </tbody>\n",
       "</table>\n",
       "</div>"
      ],
      "text/plain": [
       "      BUIS        DATE      NET     FACTOR PROF_LOSS  CUR  \\\n",
       "0  CEEMAEA  2023-06-01  1359240  BondBasis      LOSS  INR   \n",
       "1  CEEMAEA  2023-06-01  1697695    FXDelta   PROFFIT  GBP   \n",
       "2    LATAM  2023-06-01   125891  BondBasis      LOSS  EUR   \n",
       "3  CEEMAEA  2023-06-02    80205  BondBasis      LOSS  EUR   \n",
       "4    LATAM  2023-06-02  1287150    IRDelta      LOSS  GBP   \n",
       "\n",
       "                                  PF            DSK  \n",
       "0  American London CEEMAEA Portfolio  LATAM/NYC DSK  \n",
       "1         European CEEMAEA Portfolio     US/LDN DSK  \n",
       "2           LATAM Emerging Portfolio  LATAM/NYC DSK  \n",
       "3  American London CEEMAEA Portfolio     US/LDN DSK  \n",
       "4  American London CEEMAEA Portfolio     US/LDN DSK  "
      ]
     },
     "execution_count": 50,
     "metadata": {},
     "output_type": "execute_result"
    }
   ],
   "source": [
    "pd.DataFrame(rule_based_title_comment_data).head()"
   ]
  },
  {
   "cell_type": "code",
   "execution_count": 41,
   "metadata": {},
   "outputs": [
    {
     "name": "stdout",
     "output_type": "stream",
     "text": [
      "Use case: Identify the top 5 <PF> portfolios with the greatest volatility in <NET> profit/loss.\n",
      "SQL script: SELECT PF, SUM(NET * NET) - SUM(NET) * SUM(NET) / COUNT(NET) AS Volatility FROM title_data GROUP BY PF ORDER BY Volatility DESC LIMIT 5\n"
     ]
    },
    {
     "data": {
      "text/plain": [
       "[('European CEEMAEA Portfolio', 133105120587114),\n",
       " ('American London CEEMAEA Portfolio', 128560048600709),\n",
       " ('LATAM Emerging Portfolio', 111238796029134)]"
      ]
     },
     "execution_count": 41,
     "metadata": {},
     "output_type": "execute_result"
    }
   ],
   "source": [
    "qry_index = -2\n",
    "\n",
    "print(f\"Use case: {fin_quries[0]['queries'][qry_index]['query']}\")\n",
    "\n",
    "user_sql_prompt = [\n",
    "    f\"You are a SQL expert. Your task is to write a SQL script to query data from the given table. Note: you are generating a SQL script for SQLLite's python library. You must be careful while writing complex queries as it is very sensitive.\",\n",
    "    f\"Library specific notes: STDDEV is not supported in SQLLite. You can use AVG and SUM to calculate the standard deviation.\",\n",
    "    f\"Here is the schema of the table `title_data`: {inmemory_db.metadata.tables}\",\n",
    "    f\"Here is the are the first few rows of the table `title_data`: {pd.DataFrame(rule_based_title_comment_data).head()}\",\n",
    "    f\"User is trying to answer the following query: {fin_quries[0]['queries'][qry_index]['query']}\",\n",
    "    f\"Write a SQL script to answer the query using the tool `SQLScript`. Your answer must follow the argument strucure of the tool `SQLScript`. You are encouraged to use compound and complex SQL queries to answer the query.\"\n",
    "]\n",
    "\n",
    "\n",
    "sql_qry_result = sql_query_engine(\n",
    "    user_query=user_sql_prompt\n",
    ")\n",
    "\n",
    "# sql_script = re.search(r'```sql(.*?)```', sql_qry_result[0]['sql_script'], re.DOTALL).group(1).strip()\n",
    "sql_script = sql_qry_result[0]['sql_script']\n",
    "\n",
    "print(f\"SQL script: {sql_script}\")\n",
    "\n",
    "sql_result = inmemory_db.query_data(sql_script)\n",
    "\n",
    "sql_result"
   ]
  },
  {
   "cell_type": "code",
   "execution_count": null,
   "metadata": {},
   "outputs": [],
   "source": []
  },
  {
   "cell_type": "code",
   "execution_count": null,
   "metadata": {},
   "outputs": [
    {
     "ename": "NameError",
     "evalue": "name 'dasd' is not defined",
     "output_type": "error",
     "traceback": [
      "\u001b[0;31m---------------------------------------------------------------------------\u001b[0m",
      "\u001b[0;31mNameError\u001b[0m                                 Traceback (most recent call last)",
      "Cell \u001b[0;32mIn[39], line 1\u001b[0m\n\u001b[0;32m----> 1\u001b[0m \u001b[43mdasd\u001b[49m\n",
      "\u001b[0;31mNameError\u001b[0m: name 'dasd' is not defined"
     ]
    }
   ],
   "source": []
  },
  {
   "cell_type": "code",
   "execution_count": null,
   "metadata": {},
   "outputs": [],
   "source": []
  }
 ],
 "metadata": {
  "kernelspec": {
   "display_name": ".venv",
   "language": "python",
   "name": "python3"
  },
  "language_info": {
   "codemirror_mode": {
    "name": "ipython",
    "version": 3
   },
   "file_extension": ".py",
   "mimetype": "text/x-python",
   "name": "python",
   "nbconvert_exporter": "python",
   "pygments_lexer": "ipython3",
   "version": "3.9.6"
  }
 },
 "nbformat": 4,
 "nbformat_minor": 2
}
