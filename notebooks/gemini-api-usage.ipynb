{
 "cells": [
  {
   "cell_type": "code",
   "execution_count": 1,
   "metadata": {},
   "outputs": [
    {
     "name": "stderr",
     "output_type": "stream",
     "text": [
      "/Users/debasmitroy/Desktop/programming/gemini-agent-assist/.venv/lib/python3.9/site-packages/urllib3/__init__.py:35: NotOpenSSLWarning: urllib3 v2 only supports OpenSSL 1.1.1+, currently the 'ssl' module is compiled with 'LibreSSL 2.8.3'. See: https://github.com/urllib3/urllib3/issues/3020\n",
      "  warnings.warn(\n"
     ]
    }
   ],
   "source": [
    "import os\n",
    "import json\n",
    "from pydantic import BaseModel, Field\n",
    "from typing import List, Dict, Any\n",
    "from utils.gemini_service import GeminiModel, GeminiJsonEngine, GeminiSimpleChatEngine\n",
    "from utils.pydantic_service import pydantic_schema_to_tool_format\n",
    "\n",
    "\n",
    "\n",
    "os.environ[\"GOOGLE_APPLICATION_CREDENTIALS\"] = \"/Users/debasmitroy/Desktop/programming/gemini-agent-assist/key.json\"\n",
    "os.environ[\"GOOGLE_CLOUD_PROJECT\"] = \"hackathon0-project\"\n",
    "os.environ[\"GOOGLE_CLOUD_LOCATION\"] = \"us-central1\""
   ]
  },
  {
   "cell_type": "markdown",
   "metadata": {},
   "source": [
    "## Model Definition"
   ]
  },
  {
   "cell_type": "code",
   "execution_count": 2,
   "metadata": {},
   "outputs": [
    {
     "name": "stdout",
     "output_type": "stream",
     "text": [
      "Initialized GeminiModel with model gemini-1.5-flash-002 , project hackathon0-project, location us-central1\n"
     ]
    }
   ],
   "source": [
    "model = GeminiModel(model_name=\"gemini-1.5-flash-002\", temperature=0.8)"
   ]
  },
  {
   "cell_type": "markdown",
   "metadata": {},
   "source": [
    "## Generate Plain Text "
   ]
  },
  {
   "cell_type": "code",
   "execution_count": 3,
   "metadata": {},
   "outputs": [
    {
     "data": {
      "text/plain": [
       "\"That's a bit cheeky!  As an expert AI assistant, I'm here to help *you*.  Tell me what you need assistance with.  The more detail you provide, the better I can assist you.  For example, are you looking for information on a specific topic, help with a problem, assistance with writing something, or something else entirely?\\n\""
      ]
     },
     "execution_count": 3,
     "metadata": {},
     "output_type": "execute_result"
    }
   ],
   "source": [
    "content_roles = [\n",
    "    {\"role\": \"user\", \"content\": \"You are an expert assistant.\"},\n",
    "    {\"role\": \"model\", \"content\": \"Thank you for the compliment.\"},\n",
    "    {\"role\": \"user\", \"content\": \"What can I help you with today?\"}\n",
    "]\n",
    "systemInstructions = \"You are an AI assistant. You can help the user with their queries.\"\n",
    "response = model.generate_content(content_roles, systemInstructions, simplify_output=True)\n",
    "response"
   ]
  },
  {
   "cell_type": "markdown",
   "metadata": {},
   "source": [
    "## Engine Wrapper"
   ]
  },
  {
   "cell_type": "code",
   "execution_count": 2,
   "metadata": {},
   "outputs": [
    {
     "name": "stdout",
     "output_type": "stream",
     "text": [
      "Initialized GeminiModel with model gemini-1.5-flash-002 , project hackathon0-project, location us-central1\n"
     ]
    }
   ],
   "source": [
    "gemini_simple_chat_engine = GeminiSimpleChatEngine(model_name=\"gemini-1.5-flash-002\", temperature=0.8, max_output_tokens=100, systemInstructions=\"You are an expert assistant. What can I help you with today?\")"
   ]
  },
  {
   "cell_type": "code",
   "execution_count": 3,
   "metadata": {},
   "outputs": [],
   "source": [
    "response = gemini_simple_chat_engine(\"What is the capital of France?\")"
   ]
  },
  {
   "cell_type": "code",
   "execution_count": 4,
   "metadata": {},
   "outputs": [
    {
     "data": {
      "text/plain": [
       "'The capital of France is Paris.\\n'"
      ]
     },
     "execution_count": 4,
     "metadata": {},
     "output_type": "execute_result"
    }
   ],
   "source": [
    "response"
   ]
  },
  {
   "cell_type": "markdown",
   "metadata": {},
   "source": [
    "## Gemini Structured Output"
   ]
  },
  {
   "cell_type": "code",
   "execution_count": 5,
   "metadata": {},
   "outputs": [
    {
     "data": {
      "text/plain": [
       "[{'name': 'addition', 'args': {'numbers': [12, 34]}},\n",
       " {'name': 'subtraction', 'args': {'minuend': 46, 'subtrahend': 56}}]"
      ]
     },
     "execution_count": 5,
     "metadata": {},
     "output_type": "execute_result"
    }
   ],
   "source": [
    "# Sample request for function calling\n",
    "content_roles = [\n",
    "    {\"role\": \"user\", \"content\": \"what is 12+34-56?\"}\n",
    "]\n",
    "# systemInstructions = \"You are an AI assistant. You are helping the user with their math homework.\"\n",
    "\n",
    "tools = [\n",
    "    {\n",
    "        \"name\": \"addition\",\n",
    "        \"description\": \"Add multiple numbers\",\n",
    "        \"parameters\": {\n",
    "            \"type\": \"object\",\n",
    "            \"properties\": {\n",
    "                \"numbers\": {\n",
    "                    \"type\": \"array\",\n",
    "                    \"description\": \"A list of numbers to add\",\n",
    "                    \"items\": {\n",
    "                        \"type\": \"number\"\n",
    "                    }\n",
    "                }\n",
    "            },\n",
    "            \"required\": [\"numbers\"]\n",
    "        }\n",
    "    },\n",
    "    {\n",
    "        \"name\": \"subtraction\",\n",
    "        \"description\": \"Subtract two numbers\",\n",
    "        \"parameters\": {\n",
    "            \"type\": \"object\",\n",
    "            \"properties\": {\n",
    "                \"minuend\": {\n",
    "                    \"type\": \"number\",\n",
    "                    \"description\": \"The number to subtract from\"\n",
    "                },\n",
    "                \"subtrahend\": {\n",
    "                    \"type\": \"number\",\n",
    "                    \"description\": \"The number to subtract\"\n",
    "                }\n",
    "            },\n",
    "            \"required\": [\"minuend\", \"subtrahend\"]\n",
    "        }\n",
    "    }\n",
    "]\n",
    "\n",
    "\n",
    "response_func = model.generate_funccall_content(content_roles, tools, simplify_output=True)\n",
    "response_func\n"
   ]
  },
  {
   "cell_type": "markdown",
   "metadata": {},
   "source": [
    "## Gemini Strucutre Output (Cleaner Code)"
   ]
  },
  {
   "cell_type": "code",
   "execution_count": 6,
   "metadata": {},
   "outputs": [],
   "source": [
    "class AdditionParams(BaseModel):\n",
    "    \"\"\"\n",
    "    Parameters for adding multiple numbers.\n",
    "    \"\"\"\n",
    "    numbers: List[float] = Field(..., description=\"A list of numbers to add\")\n",
    "\n",
    "class SubtractionParams(BaseModel):\n",
    "    \"\"\"\n",
    "    Parameters for subtracting two numbers.\n",
    "    \"\"\"\n",
    "    minuend: float = Field(..., description=\"The number to subtract from\")\n",
    "    subtrahend: float = Field(..., description=\"The number to subtract\")    "
   ]
  },
  {
   "cell_type": "code",
   "execution_count": 10,
   "metadata": {},
   "outputs": [
    {
     "data": {
      "text/plain": [
       "[{'name': 'subtraction', 'args': {'minuend': 46, 'subtrahend': 56}}]"
      ]
     },
     "execution_count": 10,
     "metadata": {},
     "output_type": "execute_result"
    }
   ],
   "source": [
    "content_roles = [\n",
    "    {\"role\": \"user\", \"content\": \"what is 12+34?\"},\n",
    "    {\"role\": \"user\", \"content\": \"Now subtract 56 from the result.\"}\n",
    "]\n",
    "# systemInstructions = \"You are an AI assistant. You are helping the user with their math homework.\"\n",
    "\n",
    "tools = [\n",
    "    pydantic_schema_to_tool_format(AdditionParams),\n",
    "    pydantic_schema_to_tool_format(SubtractionParams)\n",
    "]\n",
    "\n",
    "response_func = model.generate_funccall_content(content_roles, tools, simplify_output=True)\n",
    "response_func"
   ]
  },
  {
   "cell_type": "markdown",
   "metadata": {},
   "source": [
    "## Another Example With Pydantic"
   ]
  },
  {
   "cell_type": "code",
   "execution_count": 11,
   "metadata": {},
   "outputs": [],
   "source": [
    "class SentimentAnalysisParams(BaseModel):\n",
    "    \"\"\"\n",
    "    Parameters for sentiment analysis.\n",
    "    \"\"\"\n",
    "    text: str = Field(..., description=\"The text to analyze\")\n",
    "    anger_level: float = Field(..., description=\"The anger level of the text, from 0.0 to 1.0\")\n",
    "    joy_level: float = Field(..., description=\"The joy level of the text, from 0.0 to 1.0\")\n",
    "    sadness_level: float = Field(..., description=\"The sadness level of the text, from 0.0 to 1.0\")\n",
    "    fear_level: float = Field(..., description=\"The fear level of the text, from 0.0 to 1.0\")"
   ]
  },
  {
   "cell_type": "code",
   "execution_count": 12,
   "metadata": {},
   "outputs": [],
   "source": [
    "content_roles=[{\"role\": \"user\", \"content\": \"I am feeling happy today. Now do a sentiment analysis on this text.\"}]"
   ]
  },
  {
   "cell_type": "code",
   "execution_count": 13,
   "metadata": {},
   "outputs": [
    {
     "data": {
      "text/plain": [
       "[{'name': 'sentimentanalysis',\n",
       "  'args': {'anger_level': 0,\n",
       "   'joy_level': 1,\n",
       "   'sadness_level': 0,\n",
       "   'text': 'I am feeling happy today.',\n",
       "   'fear_level': 0}}]"
      ]
     },
     "execution_count": 13,
     "metadata": {},
     "output_type": "execute_result"
    }
   ],
   "source": [
    "sentiment_result = model.generate_funccall_content( \n",
    "    content_roles,\n",
    "    tools=[pydantic_schema_to_tool_format(SentimentAnalysisParams)],\n",
    "    simplify_output=True\n",
    ")\n",
    "sentiment_result"
   ]
  },
  {
   "cell_type": "markdown",
   "metadata": {},
   "source": [
    "## Another Example With Pydantic (Nested Schema)"
   ]
  },
  {
   "cell_type": "code",
   "execution_count": 14,
   "metadata": {},
   "outputs": [],
   "source": [
    "class DebitCard(BaseModel):\n",
    "    \"\"\"\n",
    "    Parameters for a debit card.\n",
    "    \"\"\"\n",
    "    card_number: str = Field(..., description=\"The debit card number, xxx if not available\") \n",
    "    card_holder: str = Field(..., description=\"The name of the card holder, xxx if not available\")\n",
    "    expiry_date: str = Field(..., description=\"The expiry date of the card, xxx if not available\")\n",
    "    cvv: str = Field(..., description=\"The CVV of the card, xxx if not available\")\n",
    "\n",
    "class CreditCard(BaseModel):\n",
    "    \"\"\"\n",
    "    Parameters for a credit card.\n",
    "    \"\"\"\n",
    "    card_number: str = Field(..., description=\"The credit card number, xxx if not available\")\n",
    "    card_holder: str = Field(..., description=\"The name of the card holder, xxx if not available\")\n",
    "    expiry_date: str = Field(..., description=\"The expiry date of the card, xxx if not available\")\n",
    "    cvv: str = Field(..., description=\"The CVV of the card, xxx if not available\")\n",
    "    credit_limit: float = Field(..., description=\"The credit limit of the card, xxx if not available\")\n",
    "\n",
    "class Person(BaseModel):\n",
    "    \"\"\"\n",
    "    Parameters for a person.\n",
    "    \"\"\"\n",
    "    name: str = Field(..., description=\"The name of the person\")\n",
    "    age: int = Field(..., description=\"The age of the person\")\n",
    "    debit_card_list: List[DebitCard] = Field(..., description=\"The list of debit cards of the person\")\n",
    "    credit_card_list: List[CreditCard] = Field(..., description=\"The list of credit cards of the person\")\n",
    "\n",
    "content_roles = [\n",
    "    {\"role\": \"user\", \"content\": \"I am John Doe. I am 30 years old. I have 2 debit cards and 1 credit card. My debit card details are: 1234 5678 9012 3456, John Doe, 12/23, 123 and 2345 6789 0123 4567, John Doe, 12/24, 456. My credit card details are: 3456 7890 1234 5678, John Doe, 12/25, 789, 10000.\"}\n",
    "]"
   ]
  },
  {
   "cell_type": "code",
   "execution_count": 15,
   "metadata": {},
   "outputs": [
    {
     "data": {
      "text/plain": [
       "[{'name': 'person',\n",
       "  'args': {'name': 'John Doe',\n",
       "   'age': 30,\n",
       "   'credit_card_list': [{'card_holder': 'John Doe',\n",
       "     'card_number': '3456 7890 1234 5678',\n",
       "     'expiry_date': '12/25',\n",
       "     'credit_limit': 10000,\n",
       "     'cvv': '789'}],\n",
       "   'debit_card_list': [{'expiry_date': '12/23',\n",
       "     'card_number': '1234 5678 9012 3456',\n",
       "     'cvv': '123',\n",
       "     'card_holder': 'John Doe'},\n",
       "    {'card_holder': 'John Doe',\n",
       "     'cvv': '456',\n",
       "     'expiry_date': '12/24',\n",
       "     'card_number': '2345 6789 0123 4567'}]}}]"
      ]
     },
     "execution_count": 15,
     "metadata": {},
     "output_type": "execute_result"
    }
   ],
   "source": [
    "person_result = model.generate_funccall_content(\n",
    "    content_roles,\n",
    "    tools=[pydantic_schema_to_tool_format(Person)],\n",
    "    simplify_output=True\n",
    ")\n",
    "person_result"
   ]
  },
  {
   "cell_type": "markdown",
   "metadata": {},
   "source": [
    "## Engine Wrapper"
   ]
  },
  {
   "cell_type": "code",
   "execution_count": 16,
   "metadata": {},
   "outputs": [
    {
     "name": "stdout",
     "output_type": "stream",
     "text": [
      "Initialized GeminiModel with model gemini-1.5-flash-002 , project hackathon0-project, location us-central1\n"
     ]
    }
   ],
   "source": [
    "person_engine = GeminiJsonEngine(\n",
    "    model_name=\"gemini-1.5-flash-002\",\n",
    "    basemodel=Person,\n",
    "    temperature=0.8,\n",
    "    max_output_tokens=100,\n",
    "    systemInstructions=\"You are an AI assistant. You are helping the user with their personal information. You will be asked to extract information from the user's text.\"\n",
    ")"
   ]
  },
  {
   "cell_type": "code",
   "execution_count": 17,
   "metadata": {},
   "outputs": [],
   "source": [
    "person_ans = person_engine(\n",
    "    user_query = \"\"\"\n",
    "    There are two persons.\n",
    "    One is John Doe. He is 30 years old. He has 2 debit cards and 1 credit card. His debit card details are: 1234 5678 9012 3456, John Doe, 12/23, 123 and 2345 6789 0123 4567, John Doe, 12/24, 456. His credit card details are: 3456 7890 1234 5678, John Doe, 12/25, 789, 10000.\n",
    "    The other person is Jane Doe. She is 25 years old. She has 1 debit card and 2 credit cards. Her debit card details are: 4567 8901 2345 6789, Jane Doe, 12/24, 234. Her credit card details are: 5678 9012 3456 7890, Jane Doe, 12/26, 567, 20000 and 6789 0123 4567 8901, Jane Doe, 12/27, 678, 30000.\n",
    "    \"\"\"\n",
    ")"
   ]
  },
  {
   "cell_type": "code",
   "execution_count": 18,
   "metadata": {},
   "outputs": [
    {
     "data": {
      "text/plain": [
       "({'name': 'John Doe',\n",
       "  'debit_card_list': [{'card_holder': 'John Doe',\n",
       "    'expiry_date': '12/23',\n",
       "    'card_number': '1234 5678 9012 3456',\n",
       "    'cvv': '123'},\n",
       "   {'expiry_date': '12/24',\n",
       "    'card_holder': 'John Doe',\n",
       "    'cvv': '456',\n",
       "    'card_number': '2345 6789 0123 4567'}],\n",
       "  'credit_card_list': [{'card_holder': 'John Doe',\n",
       "    'card_number': '3456 7890 1234 5678',\n",
       "    'credit_limit': 10000,\n",
       "    'cvv': '789',\n",
       "    'expiry_date': '12/25'}],\n",
       "  'age': 30},\n",
       " {'credit_card_list': [{'cvv': '567',\n",
       "    'expiry_date': '12/26',\n",
       "    'card_holder': 'Jane Doe',\n",
       "    'credit_limit': 20000,\n",
       "    'card_number': '5678 9012 3456 7890'},\n",
       "   {'expiry_date': '12/27',\n",
       "    'cvv': '678',\n",
       "    'card_number': '6789 0123 4567 8901',\n",
       "    'credit_limit': 30000,\n",
       "    'card_holder': 'Jane Doe'}],\n",
       "  'age': 25,\n",
       "  'debit_card_list': [{'card_holder': 'Jane Doe',\n",
       "    'cvv': '234',\n",
       "    'card_number': '4567 8901 2345 6789',\n",
       "    'expiry_date': '12/24'}],\n",
       "  'name': 'Jane Doe'})"
      ]
     },
     "execution_count": 18,
     "metadata": {},
     "output_type": "execute_result"
    }
   ],
   "source": [
    "person_ans[0] , person_ans[1]"
   ]
  },
  {
   "cell_type": "code",
   "execution_count": null,
   "metadata": {},
   "outputs": [],
   "source": []
  },
  {
   "cell_type": "code",
   "execution_count": null,
   "metadata": {},
   "outputs": [],
   "source": []
  },
  {
   "cell_type": "code",
   "execution_count": null,
   "metadata": {},
   "outputs": [],
   "source": []
  },
  {
   "cell_type": "code",
   "execution_count": null,
   "metadata": {},
   "outputs": [],
   "source": []
  }
 ],
 "metadata": {
  "kernelspec": {
   "display_name": ".venv",
   "language": "python",
   "name": "python3"
  },
  "language_info": {
   "codemirror_mode": {
    "name": "ipython",
    "version": 3
   },
   "file_extension": ".py",
   "mimetype": "text/x-python",
   "name": "python",
   "nbconvert_exporter": "python",
   "pygments_lexer": "ipython3",
   "version": "3.9.6"
  }
 },
 "nbformat": 4,
 "nbformat_minor": 2
}
